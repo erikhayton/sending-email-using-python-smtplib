{
  "nbformat": 4,
  "nbformat_minor": 0,
  "metadata": {
    "colab": {
      "name": "Send Emails with python.ipynb",
      "version": "0.3.2",
      "provenance": [],
      "collapsed_sections": [],
      "include_colab_link": true
    },
    "kernelspec": {
      "name": "python3",
      "display_name": "Python 3"
    }
  },
  "cells": [
    {
      "cell_type": "markdown",
      "metadata": {
        "id": "view-in-github",
        "colab_type": "text"
      },
      "source": [
        "<a href=\"https://colab.research.google.com/github/jmanani5/sending-email-using-python-smtplib/blob/master/E-mail%20notifier%20in%20Python.ipynb\" target=\"_parent\"><img src=\"https://colab.research.google.com/assets/colab-badge.svg\" alt=\"Open In Colab\"/></a>"
      ]
    },
    {
      "metadata": {
        "id": "RDsxRi8T9KHJ",
        "colab_type": "code",
        "colab": {}
      },
      "cell_type": "code",
      "source": [
        "import smtplib"
      ],
      "execution_count": 0,
      "outputs": []
    },
    {
      "metadata": {
        "id": "XGlScMquPbLm",
        "colab_type": "code",
        "colab": {}
      },
      "cell_type": "code",
      "source": [
        "# fill the details properly for sending the email properly\n",
        "\n",
        "# sender email is the mail id you are going to use for sending the message\n",
        "sender_mail = 'your_gmail_id'\n",
        "\n",
        "# email_pass is password for your email account you are going to use for sending the message\n",
        "email_pass = 'your_gmail_pass'\n",
        "\n",
        "# receiver mail is the mail id where you want to deliver your message\n",
        "receiver_mail = 'receipients_gmail_id'\n",
        "\n",
        "# other server generation details to be used. Do not change it.\n",
        "smtp_server = 'smtp.gmail.com'\n",
        "smtp_port_no = 587"
      ],
      "execution_count": 0,
      "outputs": []
    },
    {
      "metadata": {
        "id": "k_CX4xDi90xk",
        "colab_type": "code",
        "colab": {
          "base_uri": "https://localhost:8080/",
          "height": 34
        },
        "outputId": "0f329c53-db57-44b8-9430-8d6ebda482ae"
      },
      "cell_type": "code",
      "source": [
        "# start the smtp server for sending the mail\n",
        "\n",
        "server = smtplib.SMTP(smtp_server, smtp_port_no)\n",
        "server.starttls()"
      ],
      "execution_count": 112,
      "outputs": [
        {
          "output_type": "execute_result",
          "data": {
            "text/plain": [
              "(220, b'2.0.0 Ready to start TLS')"
            ]
          },
          "metadata": {
            "tags": []
          },
          "execution_count": 112
        }
      ]
    },
    {
      "metadata": {
        "id": "162v_qVk_stv",
        "colab_type": "code",
        "colab": {
          "base_uri": "https://localhost:8080/",
          "height": 34
        },
        "outputId": "4477e2c0-67ca-46c7-bf89-c8e539851459"
      },
      "cell_type": "code",
      "source": [
        "# login to your account using your credentials\n",
        "\n",
        "server.login(sender_mail, email_pass)"
      ],
      "execution_count": 113,
      "outputs": [
        {
          "output_type": "execute_result",
          "data": {
            "text/plain": [
              "(235, b'2.7.0 Accepted')"
            ]
          },
          "metadata": {
            "tags": []
          },
          "execution_count": 113
        }
      ]
    },
    {
      "metadata": {
        "id": "WUfQN1ZOJUPh",
        "colab_type": "code",
        "colab": {}
      },
      "cell_type": "code",
      "source": [
        "# Html message to be sent // Modify it according to your need\n",
        "\n",
        "message = \"\"\"From: From Script<\"\"\"+sender_mail+\"\"\">\n",
        "To: To Acknowledger <\"\"\"+receiver_mail+\"\"\">\n",
        "MIME-Version: 1.0\n",
        "Content-type: text/html\n",
        "Subject: Script Running Tracking\n",
        "\n",
        "This is system generated email.Do Not Reply to it.\n",
        "\n",
        "<b>The Process Successfully Finished.</b>\n",
        "<h1>This is headline.</h1>\"\"\""
      ],
      "execution_count": 0,
      "outputs": []
    },
    {
      "metadata": {
        "id": "zJPcuWzeDqId",
        "colab_type": "code",
        "colab": {
          "base_uri": "https://localhost:8080/",
          "height": 34
        },
        "outputId": "4a54a43d-37dd-4d64-9efa-cea386c191b0"
      },
      "cell_type": "code",
      "source": [
        "# send email // After successfully sending the mail you will get output like {} means mail sent successfully.\n",
        "\n",
        "server.sendmail(sender_mail, receiver_mail, message)"
      ],
      "execution_count": 118,
      "outputs": [
        {
          "output_type": "execute_result",
          "data": {
            "text/plain": [
              "{}"
            ]
          },
          "metadata": {
            "tags": []
          },
          "execution_count": 118
        }
      ]
    },
    {
      "metadata": {
        "id": "6S_SqDj3KW28",
        "colab_type": "code",
        "colab": {
          "base_uri": "https://localhost:8080/",
          "height": 34
        },
        "outputId": "45238428-a469-4624-960b-27ba707a986b"
      },
      "cell_type": "code",
      "source": [
        "# closing the server after sending the mail\n",
        "\n",
        "server.quit()"
      ],
      "execution_count": 101,
      "outputs": [
        {
          "output_type": "execute_result",
          "data": {
            "text/plain": [
              "(221, b'2.0.0 closing connection l200sm6278912vkl.25 - gsmtp')"
            ]
          },
          "metadata": {
            "tags": []
          },
          "execution_count": 101
        }
      ]
    },
    {
      "metadata": {
        "id": "V-B_Yul4jK1B",
        "colab_type": "code",
        "colab": {}
      },
      "cell_type": "code",
      "source": [
        ""
      ],
      "execution_count": 0,
      "outputs": []
    }
  ]
}